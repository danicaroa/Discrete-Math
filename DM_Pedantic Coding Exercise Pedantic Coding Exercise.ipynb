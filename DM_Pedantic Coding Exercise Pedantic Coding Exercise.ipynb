{
 "cells": [
  {
   "cell_type": "markdown",
   "metadata": {},
   "source": [
    "# Pedantic Coding Exercise\n",
    "\n",
    "\n",
    "*Coded and submitted by:*<br>\n",
    "*Roa, Danica Kate I.*<br>\n",
    "*58007*"
   ]
  },
  {
   "cell_type": "code",
   "execution_count": 1,
   "metadata": {},
   "outputs": [
    {
     "name": "stdout",
     "output_type": "stream",
     "text": [
      " cheesebruger with fries and drinks is your order\n"
     ]
    }
   ],
   "source": [
    "cheesebruger = True\n",
    "if(cheesebruger):\n",
    "    print(\" cheesebruger with fries and drinks is your order\")\n",
    "else:\n",
    "    print(\"cheesebruger with sundae is your order\")"
   ]
  },
  {
   "cell_type": "code",
   "execution_count": 3,
   "metadata": {},
   "outputs": [
    {
     "name": "stdout",
     "output_type": "stream",
     "text": [
      "cheesebruger with sundae is your order\n"
     ]
    }
   ],
   "source": [
    "cheesebruger = False\n",
    "if(cheesebruger):\n",
    "    print(\" cheesebruger with fries and drinks is your order\")\n",
    "else:\n",
    "    print(\"cheesebruger with sundae is your order\")"
   ]
  }
 ],
 "metadata": {
  "kernelspec": {
   "display_name": "Python 3",
   "language": "python",
   "name": "python3"
  },
  "language_info": {
   "codemirror_mode": {
    "name": "ipython",
    "version": 3
   },
   "file_extension": ".py",
   "mimetype": "text/x-python",
   "name": "python",
   "nbconvert_exporter": "python",
   "pygments_lexer": "ipython3",
   "version": "3.8.3"
  }
 },
 "nbformat": 4,
 "nbformat_minor": 4
}
